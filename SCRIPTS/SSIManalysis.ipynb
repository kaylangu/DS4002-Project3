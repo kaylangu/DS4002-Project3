{
 "cells": [
  {
   "cell_type": "code",
   "execution_count": 2,
   "id": "2e762e60-8cb3-4bf5-9d8e-2e30f693875a",
   "metadata": {
    "tags": []
   },
   "outputs": [
    {
     "name": "stdout",
     "output_type": "stream",
     "text": [
      "Defaulting to user installation because normal site-packages is not writeable\n",
      "Requirement already satisfied: scikit-image in /apps/software/standard/core/jupyterlab/3.6.3-py3.11/lib/python3.11/site-packages (0.21.0)\n",
      "Collecting opencv-python\n",
      "  Downloading opencv_python-4.10.0.84-cp37-abi3-manylinux_2_17_x86_64.manylinux2014_x86_64.whl.metadata (20 kB)\n",
      "Requirement already satisfied: numpy>=1.21.1 in /apps/software/standard/core/jupyterlab/3.6.3-py3.11/lib/python3.11/site-packages (from scikit-image) (1.24.4)\n",
      "Requirement already satisfied: scipy>=1.8 in /apps/software/standard/core/jupyterlab/3.6.3-py3.11/lib/python3.11/site-packages (from scikit-image) (1.11.2)\n",
      "Requirement already satisfied: networkx>=2.8 in /apps/software/standard/core/jupyterlab/3.6.3-py3.11/lib/python3.11/site-packages (from scikit-image) (3.1)\n",
      "Requirement already satisfied: pillow>=9.0.1 in /home/fhy9gs/.local/lib/python3.11/site-packages (from scikit-image) (10.4.0)\n",
      "Requirement already satisfied: imageio>=2.27 in /apps/software/standard/core/jupyterlab/3.6.3-py3.11/lib/python3.11/site-packages (from scikit-image) (2.31.1)\n",
      "Requirement already satisfied: tifffile>=2022.8.12 in /apps/software/standard/core/jupyterlab/3.6.3-py3.11/lib/python3.11/site-packages (from scikit-image) (2023.8.12)\n",
      "Requirement already satisfied: PyWavelets>=1.1.1 in /apps/software/standard/core/jupyterlab/3.6.3-py3.11/lib/python3.11/site-packages (from scikit-image) (1.4.1)\n",
      "Requirement already satisfied: packaging>=21 in /apps/software/standard/core/jupyterlab/3.6.3-py3.11/lib/python3.11/site-packages (from scikit-image) (23.1)\n",
      "Requirement already satisfied: lazy_loader>=0.2 in /apps/software/standard/core/jupyterlab/3.6.3-py3.11/lib/python3.11/site-packages (from scikit-image) (0.3)\n",
      "Downloading opencv_python-4.10.0.84-cp37-abi3-manylinux_2_17_x86_64.manylinux2014_x86_64.whl (62.5 MB)\n",
      "\u001b[2K   \u001b[90m━━━━━━━━━━━━━━━━━━━━━━━━━━━━━━━━━━━━━━━━\u001b[0m \u001b[32m62.5/62.5 MB\u001b[0m \u001b[31m328.7 MB/s\u001b[0m eta \u001b[36m0:00:00\u001b[0m\n",
      "\u001b[?25hInstalling collected packages: opencv-python\n",
      "Successfully installed opencv-python-4.10.0.84\n"
     ]
    }
   ],
   "source": [
    "#SSIM analysis\n",
    "!pip install scikit-image opencv-python"
   ]
  },
  {
   "cell_type": "code",
   "execution_count": 1,
   "id": "cedb0c2c-c647-4963-9dc4-7c5e4e5d97f9",
   "metadata": {
    "tags": []
   },
   "outputs": [],
   "source": [
    "import os\n",
    "import cv2\n",
    "import numpy as np\n",
    "from skimage.metrics import structural_similarity as ssim"
   ]
  },
  {
   "cell_type": "code",
   "execution_count": 2,
   "id": "e691242d-d63a-4f9f-98c1-6290df183482",
   "metadata": {
    "tags": []
   },
   "outputs": [
    {
     "ename": "FileNotFoundError",
     "evalue": "[Errno 2] No such file or directory: 'images'",
     "output_type": "error",
     "traceback": [
      "\u001b[0;31m---------------------------------------------------------------------------\u001b[0m",
      "\u001b[0;31mFileNotFoundError\u001b[0m                         Traceback (most recent call last)",
      "Cell \u001b[0;32mIn[2], line 5\u001b[0m\n\u001b[1;32m      2\u001b[0m style_folder \u001b[38;5;241m=\u001b[39m \u001b[38;5;124m'\u001b[39m\u001b[38;5;124mstyle_images\u001b[39m\u001b[38;5;124m'\u001b[39m\n\u001b[1;32m      4\u001b[0m \u001b[38;5;66;03m# Get all filenames in the 'images' folder\u001b[39;00m\n\u001b[0;32m----> 5\u001b[0m image_filenames \u001b[38;5;241m=\u001b[39m [f \u001b[38;5;28;01mfor\u001b[39;00m f \u001b[38;5;129;01min\u001b[39;00m \u001b[43mos\u001b[49m\u001b[38;5;241;43m.\u001b[39;49m\u001b[43mlistdir\u001b[49m\u001b[43m(\u001b[49m\u001b[43mimage_folder\u001b[49m\u001b[43m)\u001b[49m \u001b[38;5;28;01mif\u001b[39;00m os\u001b[38;5;241m.\u001b[39mpath\u001b[38;5;241m.\u001b[39misfile(os\u001b[38;5;241m.\u001b[39mpath\u001b[38;5;241m.\u001b[39mjoin(image_folder, f))]\n\u001b[1;32m      7\u001b[0m \u001b[38;5;66;03m# Loop through each image filename\u001b[39;00m\n\u001b[1;32m      8\u001b[0m \u001b[38;5;28;01mfor\u001b[39;00m filename \u001b[38;5;129;01min\u001b[39;00m image_filenames:\n",
      "\u001b[0;31mFileNotFoundError\u001b[0m: [Errno 2] No such file or directory: 'images'"
     ]
    }
   ],
   "source": [
    "image_folder = 'images'\n",
    "style_folder = 'style_images'\n",
    "\n",
    "# get image filenames\n",
    "image_filenames = [f for f in os.listdir(image_folder) if os.path.isfile(os.path.join(image_folder, f))]\n",
    "\n",
    "for filename in image_filenames:\n",
    "    print(f\"Processing {filename}...\")\n",
    "\n",
    "    # load the original and stylized images from the 'images/' and 'style_images/' folders\n",
    "    original_image = cv2.imread(os.path.join(image_folder, filename), cv2.IMREAD_GRAYSCALE)\n",
    "    stylized_image = cv2.imread(os.path.join(style_folder, filename), cv2.IMREAD_GRAYSCALE)\n",
    "\n",
    "    if original_image is None or stylized_image is None:\n",
    "        print(f\"Error: Could not load images for {filename}. Skipping.\")\n",
    "        continue\n",
    "\n",
    "    # Resizeif needed\n",
    "    if original_image.shape != stylized_image.shape:\n",
    "        stylized_image = cv2.resize(stylized_image, (original_image.shape[1], original_image.shape[0]))\n",
    "\n",
    "    # Get SSIM value \n",
    "    ssim_value, ssim_map = ssim(original_image, stylized_image, full=True)\n",
    "\n",
    "    # Print the SSIM value for the current image pair\n",
    "    print(f\"SSIM for {filename}: {ssim_value:.4f}\")\n",
    "\n",
    "    # Visualize the SSIM map for the current image\n",
    "    plt.imshow(ssim_map, cmap='gray')\n",
    "    plt.title(f'SSIM Map for {filename}')\n",
    "    plt.colorbar()\n",
    "    plt.show()"
   ]
  },
  {
   "cell_type": "code",
   "execution_count": null,
   "id": "40377088-1bd9-43bc-8452-e794244ff20d",
   "metadata": {},
   "outputs": [],
   "source": []
  }
 ],
 "metadata": {
  "kernelspec": {
   "display_name": "Python 3 (ipykernel)",
   "language": "python",
   "name": "python3"
  },
  "language_info": {
   "codemirror_mode": {
    "name": "ipython",
    "version": 3
   },
   "file_extension": ".py",
   "mimetype": "text/x-python",
   "name": "python",
   "nbconvert_exporter": "python",
   "pygments_lexer": "ipython3",
   "version": "3.11.4"
  }
 },
 "nbformat": 4,
 "nbformat_minor": 5
}
