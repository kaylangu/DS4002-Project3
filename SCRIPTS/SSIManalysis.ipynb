{
 "cells": [
  {
   "cell_type": "code",
   "execution_count": 2,
   "id": "2e762e60-8cb3-4bf5-9d8e-2e30f693875a",
   "metadata": {
    "tags": []
   },
   "outputs": [
    {
     "name": "stdout",
     "output_type": "stream",
     "text": [
      "Defaulting to user installation because normal site-packages is not writeable\n",
      "Requirement already satisfied: scikit-image in /apps/software/standard/core/jupyterlab/3.6.3-py3.11/lib/python3.11/site-packages (0.21.0)\n",
      "Collecting opencv-python\n",
      "  Downloading opencv_python-4.10.0.84-cp37-abi3-manylinux_2_17_x86_64.manylinux2014_x86_64.whl.metadata (20 kB)\n",
      "Requirement already satisfied: numpy>=1.21.1 in /apps/software/standard/core/jupyterlab/3.6.3-py3.11/lib/python3.11/site-packages (from scikit-image) (1.24.4)\n",
      "Requirement already satisfied: scipy>=1.8 in /apps/software/standard/core/jupyterlab/3.6.3-py3.11/lib/python3.11/site-packages (from scikit-image) (1.11.2)\n",
      "Requirement already satisfied: networkx>=2.8 in /apps/software/standard/core/jupyterlab/3.6.3-py3.11/lib/python3.11/site-packages (from scikit-image) (3.1)\n",
      "Requirement already satisfied: pillow>=9.0.1 in /home/fhy9gs/.local/lib/python3.11/site-packages (from scikit-image) (10.4.0)\n",
      "Requirement already satisfied: imageio>=2.27 in /apps/software/standard/core/jupyterlab/3.6.3-py3.11/lib/python3.11/site-packages (from scikit-image) (2.31.1)\n",
      "Requirement already satisfied: tifffile>=2022.8.12 in /apps/software/standard/core/jupyterlab/3.6.3-py3.11/lib/python3.11/site-packages (from scikit-image) (2023.8.12)\n",
      "Requirement already satisfied: PyWavelets>=1.1.1 in /apps/software/standard/core/jupyterlab/3.6.3-py3.11/lib/python3.11/site-packages (from scikit-image) (1.4.1)\n",
      "Requirement already satisfied: packaging>=21 in /apps/software/standard/core/jupyterlab/3.6.3-py3.11/lib/python3.11/site-packages (from scikit-image) (23.1)\n",
      "Requirement already satisfied: lazy_loader>=0.2 in /apps/software/standard/core/jupyterlab/3.6.3-py3.11/lib/python3.11/site-packages (from scikit-image) (0.3)\n",
      "Downloading opencv_python-4.10.0.84-cp37-abi3-manylinux_2_17_x86_64.manylinux2014_x86_64.whl (62.5 MB)\n",
      "\u001b[2K   \u001b[90m━━━━━━━━━━━━━━━━━━━━━━━━━━━━━━━━━━━━━━━━\u001b[0m \u001b[32m62.5/62.5 MB\u001b[0m \u001b[31m328.7 MB/s\u001b[0m eta \u001b[36m0:00:00\u001b[0m\n",
      "\u001b[?25hInstalling collected packages: opencv-python\n",
      "Successfully installed opencv-python-4.10.0.84\n"
     ]
    }
   ],
   "source": [
    "#SSIM analysis\n",
    "!pip install scikit-image opencv-python"
   ]
  },
  {
   "cell_type": "code",
   "execution_count": 3,
   "id": "cedb0c2c-c647-4963-9dc4-7c5e4e5d97f9",
   "metadata": {
    "tags": []
   },
   "outputs": [],
   "source": [
    "import cv2\n",
    "import numpy as np\n",
    "from skimage.metrics import structural_similarity as ssim"
   ]
  },
  {
   "cell_type": "code",
   "execution_count": 5,
   "id": "e691242d-d63a-4f9f-98c1-6290df183482",
   "metadata": {
    "tags": []
   },
   "outputs": [],
   "source": [
    "#change based on which images are being compared\n",
    "original_image = cv2.imread('zebra.jpg', cv2.IMREAD_GRAYSCALE)\n",
    "#stylized_image = cv2.imread('stylized_image.jpg', cv2.IMREAD_GRAYSCALE)"
   ]
  },
  {
   "cell_type": "code",
   "execution_count": null,
   "id": "ad55bdf4-5182-43c0-8b76-9aa0bd9f14d9",
   "metadata": {},
   "outputs": [],
   "source": [
    "#resize if needed\n",
    "if original_image.shape != stylized_image.shape:\n",
    "    stylized_image = cv2.resize(stylized_image, (original_image.shape[1], original_image.shape[0]))\n",
    "\n",
    "#get SSIM value \n",
    "ssim_value, ssim_map = ssim(original_image, stylized_image, full=True)\n",
    "print(f\"SSIM: {ssim_value}\")"
   ]
  },
  {
   "cell_type": "code",
   "execution_count": null,
   "id": "a1aab18f-65fc-4bcb-b221-ec902737e4a1",
   "metadata": {},
   "outputs": [],
   "source": [
    "#visualize\n",
    "import matplotlib.pyplot as plt\n",
    "plt.imshow(ssim_map, cmap='gray')\n",
    "plt.title('SSIM Map')\n",
    "plt.colorbar()\n",
    "plt.show()"
   ]
  }
 ],
 "metadata": {
  "kernelspec": {
   "display_name": "Python 3 (ipykernel)",
   "language": "python",
   "name": "python3"
  },
  "language_info": {
   "codemirror_mode": {
    "name": "ipython",
    "version": 3
   },
   "file_extension": ".py",
   "mimetype": "text/x-python",
   "name": "python",
   "nbconvert_exporter": "python",
   "pygments_lexer": "ipython3",
   "version": "3.11.4"
  }
 },
 "nbformat": 4,
 "nbformat_minor": 5
}
